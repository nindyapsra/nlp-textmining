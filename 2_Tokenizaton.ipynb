{
 "cells": [
  {
   "cell_type": "markdown",
   "metadata": {},
   "source": [
    "Tokenization is split a text. Or divided a text into smaller parts. Tokenize is useful for finding pattern. And this is a base before stemming or lemmatization "
   ]
  },
  {
   "cell_type": "markdown",
   "metadata": {},
   "source": [
    "There are two modules we can be used for tokenize :"
   ]
  },
  {
   "cell_type": "markdown",
   "metadata": {},
   "source": [
    "##### 1. Word Tokenize\n",
    "Split a text into word by word"
   ]
  },
  {
   "cell_type": "markdown",
   "metadata": {},
   "source": [
    "##### 2. Sentence Tokenize \n",
    "Split a text into sentence by sentence"
   ]
  },
  {
   "cell_type": "code",
   "execution_count": 1,
   "metadata": {},
   "outputs": [
    {
     "name": "stderr",
     "output_type": "stream",
     "text": [
      "[nltk_data] Downloading package punkt to\n",
      "[nltk_data]     C:\\Users\\nndapsra\\AppData\\Roaming\\nltk_data...\n",
      "[nltk_data]   Package punkt is already up-to-date!\n"
     ]
    },
    {
     "data": {
      "text/plain": [
       "True"
      ]
     },
     "execution_count": 1,
     "metadata": {},
     "output_type": "execute_result"
    }
   ],
   "source": [
    "#Import Library\n",
    "\n",
    "import os\n",
    "import nltk\n",
    "\n",
    "nltk.download('punkt')"
   ]
  },
  {
   "cell_type": "code",
   "execution_count": 2,
   "metadata": {},
   "outputs": [],
   "source": [
    "#Example Sentences\n",
    "\n",
    "AI=\"\"\"According to the father of Artificial\n",
    "Intelligence, John McCarthy, it is “The science and\n",
    "engineering of making intelligent machines, especially\n",
    "intelligent computer programs”.\n",
    "\n",
    "Artificial Intelligence is a way of making a computer,\n",
    "a computer-controlled robot, or a software think\n",
    "intelligently, in the similar manner the intelligent\n",
    "humans think.\n",
    "\n",
    "AI is accomplished by studying how human brain thinks,\n",
    "and how humans learn, decide, and work while trying to\n",
    "solve a problem, and then using the outcomes of this\n",
    "study as a basis of developing intelligent software\n",
    "and systems.\"\"\""
   ]
  },
  {
   "cell_type": "code",
   "execution_count": 3,
   "metadata": {},
   "outputs": [
    {
     "data": {
      "text/plain": [
       "'According to the father of Artificial\\nIntelligence, John McCarthy, it is “The science and\\nengineering of making intelligent machines, especially\\nintelligent computer programs”.\\n\\nArtificial Intelligence is a way of making a computer,\\na computer-controlled robot, or a software think\\nintelligently, in the similar manner the intelligent\\nhumans think.\\n\\nAI is accomplished by studying how human brain thinks,\\nand how humans learn, decide, and work while trying to\\nsolve a problem, and then using the outcomes of this\\nstudy as a basis of developing intelligent software\\nand systems.'"
      ]
     },
     "execution_count": 3,
     "metadata": {},
     "output_type": "execute_result"
    }
   ],
   "source": [
    "AI"
   ]
  },
  {
   "cell_type": "code",
   "execution_count": 4,
   "metadata": {},
   "outputs": [
    {
     "data": {
      "text/plain": [
       "577"
      ]
     },
     "execution_count": 4,
     "metadata": {},
     "output_type": "execute_result"
    }
   ],
   "source": [
    "len(AI)"
   ]
  },
  {
   "cell_type": "markdown",
   "metadata": {},
   "source": [
    "# Word Tokenization"
   ]
  },
  {
   "cell_type": "code",
   "execution_count": 5,
   "metadata": {},
   "outputs": [
    {
     "name": "stdout",
     "output_type": "stream",
     "text": [
      "['According', 'to', 'the', 'father', 'of', 'Artificial', 'Intelligence', ',', 'John', 'McCarthy', ',', 'it', 'is', '“', 'The', 'science', 'and', 'engineering', 'of', 'making', 'intelligent', 'machines', ',', 'especially', 'intelligent', 'computer', 'programs', '”', '.', 'Artificial', 'Intelligence', 'is', 'a', 'way', 'of', 'making', 'a', 'computer', ',', 'a', 'computer-controlled', 'robot', ',', 'or', 'a', 'software', 'think', 'intelligently', ',', 'in', 'the', 'similar', 'manner', 'the', 'intelligent', 'humans', 'think', '.', 'AI', 'is', 'accomplished', 'by', 'studying', 'how', 'human', 'brain', 'thinks', ',', 'and', 'how', 'humans', 'learn', ',', 'decide', ',', 'and', 'work', 'while', 'trying', 'to', 'solve', 'a', 'problem', ',', 'and', 'then', 'using', 'the', 'outcomes', 'of', 'this', 'study', 'as', 'a', 'basis', 'of', 'developing', 'intelligent', 'software', 'and', 'systems', '.']\n"
     ]
    }
   ],
   "source": [
    "#Split Word by Word using word_tokenize function\n",
    "\n",
    "from nltk import word_tokenize\n",
    "\n",
    "word_token = word_tokenize(AI)\n",
    "print(word_token)"
   ]
  },
  {
   "cell_type": "code",
   "execution_count": 6,
   "metadata": {},
   "outputs": [
    {
     "data": {
      "text/plain": [
       "102"
      ]
     },
     "execution_count": 6,
     "metadata": {},
     "output_type": "execute_result"
    }
   ],
   "source": [
    "len(word_token)"
   ]
  },
  {
   "cell_type": "markdown",
   "metadata": {},
   "source": [
    "# Sentence Tokenization"
   ]
  },
  {
   "cell_type": "code",
   "execution_count": 7,
   "metadata": {},
   "outputs": [
    {
     "name": "stdout",
     "output_type": "stream",
     "text": [
      "['According to the father of Artificial\\nIntelligence, John McCarthy, it is “The science and\\nengineering of making intelligent machines, especially\\nintelligent computer programs”.', 'Artificial Intelligence is a way of making a computer,\\na computer-controlled robot, or a software think\\nintelligently, in the similar manner the intelligent\\nhumans think.', 'AI is accomplished by studying how human brain thinks,\\nand how humans learn, decide, and work while trying to\\nsolve a problem, and then using the outcomes of this\\nstudy as a basis of developing intelligent software\\nand systems.']\n"
     ]
    }
   ],
   "source": [
    "#Split Word by Word using word_tokenize function\n",
    "\n",
    "from nltk import sent_tokenize\n",
    "\n",
    "sent_token = sent_tokenize(AI)\n",
    "print(sent_token)"
   ]
  },
  {
   "cell_type": "code",
   "execution_count": 8,
   "metadata": {},
   "outputs": [
    {
     "data": {
      "text/plain": [
       "3"
      ]
     },
     "execution_count": 8,
     "metadata": {},
     "output_type": "execute_result"
    }
   ],
   "source": [
    "len(sent_token)"
   ]
  },
  {
   "cell_type": "markdown",
   "metadata": {},
   "source": [
    "# Word Frequently"
   ]
  },
  {
   "cell_type": "code",
   "execution_count": 9,
   "metadata": {},
   "outputs": [],
   "source": [
    "from nltk.probability import FreqDist"
   ]
  },
  {
   "cell_type": "code",
   "execution_count": 10,
   "metadata": {},
   "outputs": [
    {
     "name": "stdout",
     "output_type": "stream",
     "text": [
      "<FreqDist with 60 samples and 102 outcomes>\n"
     ]
    }
   ],
   "source": [
    "fdist = FreqDist()\n",
    "for word in word_token:\n",
    "    fdist[word.lower()]+=1\n",
    "print(fdist)"
   ]
  },
  {
   "cell_type": "code",
   "execution_count": 11,
   "metadata": {},
   "outputs": [
    {
     "data": {
      "text/plain": [
       "[(',', 10),\n",
       " ('a', 6),\n",
       " ('the', 5),\n",
       " ('of', 5),\n",
       " ('and', 5),\n",
       " ('intelligent', 4),\n",
       " ('is', 3),\n",
       " ('.', 3),\n",
       " ('to', 2),\n",
       " ('artificial', 2)]"
      ]
     },
     "execution_count": 11,
     "metadata": {},
     "output_type": "execute_result"
    }
   ],
   "source": [
    "fdist_top10 = fdist.most_common(10)\n",
    "fdist_top10"
   ]
  },
  {
   "cell_type": "markdown",
   "metadata": {},
   "source": [
    "# Bigram Tokenization"
   ]
  },
  {
   "cell_type": "code",
   "execution_count": 12,
   "metadata": {},
   "outputs": [],
   "source": [
    "#Import Library bigrams\n",
    "\n",
    "from nltk.util import bigrams"
   ]
  },
  {
   "cell_type": "code",
   "execution_count": 13,
   "metadata": {},
   "outputs": [],
   "source": [
    "#Sentence Initialization\n",
    "\n",
    "quotes_tokens = nltk.word_tokenize(AI)"
   ]
  },
  {
   "cell_type": "code",
   "execution_count": 14,
   "metadata": {},
   "outputs": [
    {
     "name": "stdout",
     "output_type": "stream",
     "text": [
      "[('According', 'to'), ('to', 'the'), ('the', 'father'), ('father', 'of'), ('of', 'Artificial'), ('Artificial', 'Intelligence'), ('Intelligence', ','), (',', 'John'), ('John', 'McCarthy'), ('McCarthy', ','), (',', 'it'), ('it', 'is'), ('is', '“'), ('“', 'The'), ('The', 'science'), ('science', 'and'), ('and', 'engineering'), ('engineering', 'of'), ('of', 'making'), ('making', 'intelligent'), ('intelligent', 'machines'), ('machines', ','), (',', 'especially'), ('especially', 'intelligent'), ('intelligent', 'computer'), ('computer', 'programs'), ('programs', '”'), ('”', '.'), ('.', 'Artificial'), ('Artificial', 'Intelligence'), ('Intelligence', 'is'), ('is', 'a'), ('a', 'way'), ('way', 'of'), ('of', 'making'), ('making', 'a'), ('a', 'computer'), ('computer', ','), (',', 'a'), ('a', 'computer-controlled'), ('computer-controlled', 'robot'), ('robot', ','), (',', 'or'), ('or', 'a'), ('a', 'software'), ('software', 'think'), ('think', 'intelligently'), ('intelligently', ','), (',', 'in'), ('in', 'the'), ('the', 'similar'), ('similar', 'manner'), ('manner', 'the'), ('the', 'intelligent'), ('intelligent', 'humans'), ('humans', 'think'), ('think', '.'), ('.', 'AI'), ('AI', 'is'), ('is', 'accomplished'), ('accomplished', 'by'), ('by', 'studying'), ('studying', 'how'), ('how', 'human'), ('human', 'brain'), ('brain', 'thinks'), ('thinks', ','), (',', 'and'), ('and', 'how'), ('how', 'humans'), ('humans', 'learn'), ('learn', ','), (',', 'decide'), ('decide', ','), (',', 'and'), ('and', 'work'), ('work', 'while'), ('while', 'trying'), ('trying', 'to'), ('to', 'solve'), ('solve', 'a'), ('a', 'problem'), ('problem', ','), (',', 'and'), ('and', 'then'), ('then', 'using'), ('using', 'the'), ('the', 'outcomes'), ('outcomes', 'of'), ('of', 'this'), ('this', 'study'), ('study', 'as'), ('as', 'a'), ('a', 'basis'), ('basis', 'of'), ('of', 'developing'), ('developing', 'intelligent'), ('intelligent', 'software'), ('software', 'and'), ('and', 'systems'), ('systems', '.')]\n"
     ]
    }
   ],
   "source": [
    "#Bigram tokenize\n",
    "\n",
    "quotes_bigrams = list(nltk.bigrams(quotes_tokens))\n",
    "print(quotes_bigrams)"
   ]
  },
  {
   "cell_type": "markdown",
   "metadata": {},
   "source": [
    "# Trigram Tokenization"
   ]
  },
  {
   "cell_type": "code",
   "execution_count": 15,
   "metadata": {},
   "outputs": [],
   "source": [
    "#Import Library Trigram\n",
    "\n",
    "from nltk.util import trigrams"
   ]
  },
  {
   "cell_type": "code",
   "execution_count": 16,
   "metadata": {},
   "outputs": [
    {
     "name": "stdout",
     "output_type": "stream",
     "text": [
      "[('According', 'to', 'the'), ('to', 'the', 'father'), ('the', 'father', 'of'), ('father', 'of', 'Artificial'), ('of', 'Artificial', 'Intelligence'), ('Artificial', 'Intelligence', ','), ('Intelligence', ',', 'John'), (',', 'John', 'McCarthy'), ('John', 'McCarthy', ','), ('McCarthy', ',', 'it'), (',', 'it', 'is'), ('it', 'is', '“'), ('is', '“', 'The'), ('“', 'The', 'science'), ('The', 'science', 'and'), ('science', 'and', 'engineering'), ('and', 'engineering', 'of'), ('engineering', 'of', 'making'), ('of', 'making', 'intelligent'), ('making', 'intelligent', 'machines'), ('intelligent', 'machines', ','), ('machines', ',', 'especially'), (',', 'especially', 'intelligent'), ('especially', 'intelligent', 'computer'), ('intelligent', 'computer', 'programs'), ('computer', 'programs', '”'), ('programs', '”', '.'), ('”', '.', 'Artificial'), ('.', 'Artificial', 'Intelligence'), ('Artificial', 'Intelligence', 'is'), ('Intelligence', 'is', 'a'), ('is', 'a', 'way'), ('a', 'way', 'of'), ('way', 'of', 'making'), ('of', 'making', 'a'), ('making', 'a', 'computer'), ('a', 'computer', ','), ('computer', ',', 'a'), (',', 'a', 'computer-controlled'), ('a', 'computer-controlled', 'robot'), ('computer-controlled', 'robot', ','), ('robot', ',', 'or'), (',', 'or', 'a'), ('or', 'a', 'software'), ('a', 'software', 'think'), ('software', 'think', 'intelligently'), ('think', 'intelligently', ','), ('intelligently', ',', 'in'), (',', 'in', 'the'), ('in', 'the', 'similar'), ('the', 'similar', 'manner'), ('similar', 'manner', 'the'), ('manner', 'the', 'intelligent'), ('the', 'intelligent', 'humans'), ('intelligent', 'humans', 'think'), ('humans', 'think', '.'), ('think', '.', 'AI'), ('.', 'AI', 'is'), ('AI', 'is', 'accomplished'), ('is', 'accomplished', 'by'), ('accomplished', 'by', 'studying'), ('by', 'studying', 'how'), ('studying', 'how', 'human'), ('how', 'human', 'brain'), ('human', 'brain', 'thinks'), ('brain', 'thinks', ','), ('thinks', ',', 'and'), (',', 'and', 'how'), ('and', 'how', 'humans'), ('how', 'humans', 'learn'), ('humans', 'learn', ','), ('learn', ',', 'decide'), (',', 'decide', ','), ('decide', ',', 'and'), (',', 'and', 'work'), ('and', 'work', 'while'), ('work', 'while', 'trying'), ('while', 'trying', 'to'), ('trying', 'to', 'solve'), ('to', 'solve', 'a'), ('solve', 'a', 'problem'), ('a', 'problem', ','), ('problem', ',', 'and'), (',', 'and', 'then'), ('and', 'then', 'using'), ('then', 'using', 'the'), ('using', 'the', 'outcomes'), ('the', 'outcomes', 'of'), ('outcomes', 'of', 'this'), ('of', 'this', 'study'), ('this', 'study', 'as'), ('study', 'as', 'a'), ('as', 'a', 'basis'), ('a', 'basis', 'of'), ('basis', 'of', 'developing'), ('of', 'developing', 'intelligent'), ('developing', 'intelligent', 'software'), ('intelligent', 'software', 'and'), ('software', 'and', 'systems'), ('and', 'systems', '.')]\n"
     ]
    }
   ],
   "source": [
    "#Trigram tokenize\n",
    "\n",
    "quotes_trigrams = list(nltk.trigrams(quotes_tokens))\n",
    "print(quotes_trigrams)"
   ]
  },
  {
   "cell_type": "markdown",
   "metadata": {},
   "source": [
    "# Ngrams Tokenization"
   ]
  },
  {
   "cell_type": "code",
   "execution_count": 17,
   "metadata": {},
   "outputs": [],
   "source": [
    "#Import Library Ngram\n",
    "\n",
    "from nltk.util import ngrams"
   ]
  },
  {
   "cell_type": "code",
   "execution_count": 18,
   "metadata": {},
   "outputs": [
    {
     "name": "stdout",
     "output_type": "stream",
     "text": [
      "[('According', 'to', 'the', 'father', 'of', 'Artificial', 'Intelligence', ',', 'John', 'McCarthy'), ('to', 'the', 'father', 'of', 'Artificial', 'Intelligence', ',', 'John', 'McCarthy', ','), ('the', 'father', 'of', 'Artificial', 'Intelligence', ',', 'John', 'McCarthy', ',', 'it'), ('father', 'of', 'Artificial', 'Intelligence', ',', 'John', 'McCarthy', ',', 'it', 'is'), ('of', 'Artificial', 'Intelligence', ',', 'John', 'McCarthy', ',', 'it', 'is', '“'), ('Artificial', 'Intelligence', ',', 'John', 'McCarthy', ',', 'it', 'is', '“', 'The'), ('Intelligence', ',', 'John', 'McCarthy', ',', 'it', 'is', '“', 'The', 'science'), (',', 'John', 'McCarthy', ',', 'it', 'is', '“', 'The', 'science', 'and'), ('John', 'McCarthy', ',', 'it', 'is', '“', 'The', 'science', 'and', 'engineering'), ('McCarthy', ',', 'it', 'is', '“', 'The', 'science', 'and', 'engineering', 'of'), (',', 'it', 'is', '“', 'The', 'science', 'and', 'engineering', 'of', 'making'), ('it', 'is', '“', 'The', 'science', 'and', 'engineering', 'of', 'making', 'intelligent'), ('is', '“', 'The', 'science', 'and', 'engineering', 'of', 'making', 'intelligent', 'machines'), ('“', 'The', 'science', 'and', 'engineering', 'of', 'making', 'intelligent', 'machines', ','), ('The', 'science', 'and', 'engineering', 'of', 'making', 'intelligent', 'machines', ',', 'especially'), ('science', 'and', 'engineering', 'of', 'making', 'intelligent', 'machines', ',', 'especially', 'intelligent'), ('and', 'engineering', 'of', 'making', 'intelligent', 'machines', ',', 'especially', 'intelligent', 'computer'), ('engineering', 'of', 'making', 'intelligent', 'machines', ',', 'especially', 'intelligent', 'computer', 'programs'), ('of', 'making', 'intelligent', 'machines', ',', 'especially', 'intelligent', 'computer', 'programs', '”'), ('making', 'intelligent', 'machines', ',', 'especially', 'intelligent', 'computer', 'programs', '”', '.'), ('intelligent', 'machines', ',', 'especially', 'intelligent', 'computer', 'programs', '”', '.', 'Artificial'), ('machines', ',', 'especially', 'intelligent', 'computer', 'programs', '”', '.', 'Artificial', 'Intelligence'), (',', 'especially', 'intelligent', 'computer', 'programs', '”', '.', 'Artificial', 'Intelligence', 'is'), ('especially', 'intelligent', 'computer', 'programs', '”', '.', 'Artificial', 'Intelligence', 'is', 'a'), ('intelligent', 'computer', 'programs', '”', '.', 'Artificial', 'Intelligence', 'is', 'a', 'way'), ('computer', 'programs', '”', '.', 'Artificial', 'Intelligence', 'is', 'a', 'way', 'of'), ('programs', '”', '.', 'Artificial', 'Intelligence', 'is', 'a', 'way', 'of', 'making'), ('”', '.', 'Artificial', 'Intelligence', 'is', 'a', 'way', 'of', 'making', 'a'), ('.', 'Artificial', 'Intelligence', 'is', 'a', 'way', 'of', 'making', 'a', 'computer'), ('Artificial', 'Intelligence', 'is', 'a', 'way', 'of', 'making', 'a', 'computer', ','), ('Intelligence', 'is', 'a', 'way', 'of', 'making', 'a', 'computer', ',', 'a'), ('is', 'a', 'way', 'of', 'making', 'a', 'computer', ',', 'a', 'computer-controlled'), ('a', 'way', 'of', 'making', 'a', 'computer', ',', 'a', 'computer-controlled', 'robot'), ('way', 'of', 'making', 'a', 'computer', ',', 'a', 'computer-controlled', 'robot', ','), ('of', 'making', 'a', 'computer', ',', 'a', 'computer-controlled', 'robot', ',', 'or'), ('making', 'a', 'computer', ',', 'a', 'computer-controlled', 'robot', ',', 'or', 'a'), ('a', 'computer', ',', 'a', 'computer-controlled', 'robot', ',', 'or', 'a', 'software'), ('computer', ',', 'a', 'computer-controlled', 'robot', ',', 'or', 'a', 'software', 'think'), (',', 'a', 'computer-controlled', 'robot', ',', 'or', 'a', 'software', 'think', 'intelligently'), ('a', 'computer-controlled', 'robot', ',', 'or', 'a', 'software', 'think', 'intelligently', ','), ('computer-controlled', 'robot', ',', 'or', 'a', 'software', 'think', 'intelligently', ',', 'in'), ('robot', ',', 'or', 'a', 'software', 'think', 'intelligently', ',', 'in', 'the'), (',', 'or', 'a', 'software', 'think', 'intelligently', ',', 'in', 'the', 'similar'), ('or', 'a', 'software', 'think', 'intelligently', ',', 'in', 'the', 'similar', 'manner'), ('a', 'software', 'think', 'intelligently', ',', 'in', 'the', 'similar', 'manner', 'the'), ('software', 'think', 'intelligently', ',', 'in', 'the', 'similar', 'manner', 'the', 'intelligent'), ('think', 'intelligently', ',', 'in', 'the', 'similar', 'manner', 'the', 'intelligent', 'humans'), ('intelligently', ',', 'in', 'the', 'similar', 'manner', 'the', 'intelligent', 'humans', 'think'), (',', 'in', 'the', 'similar', 'manner', 'the', 'intelligent', 'humans', 'think', '.'), ('in', 'the', 'similar', 'manner', 'the', 'intelligent', 'humans', 'think', '.', 'AI'), ('the', 'similar', 'manner', 'the', 'intelligent', 'humans', 'think', '.', 'AI', 'is'), ('similar', 'manner', 'the', 'intelligent', 'humans', 'think', '.', 'AI', 'is', 'accomplished'), ('manner', 'the', 'intelligent', 'humans', 'think', '.', 'AI', 'is', 'accomplished', 'by'), ('the', 'intelligent', 'humans', 'think', '.', 'AI', 'is', 'accomplished', 'by', 'studying'), ('intelligent', 'humans', 'think', '.', 'AI', 'is', 'accomplished', 'by', 'studying', 'how'), ('humans', 'think', '.', 'AI', 'is', 'accomplished', 'by', 'studying', 'how', 'human'), ('think', '.', 'AI', 'is', 'accomplished', 'by', 'studying', 'how', 'human', 'brain'), ('.', 'AI', 'is', 'accomplished', 'by', 'studying', 'how', 'human', 'brain', 'thinks'), ('AI', 'is', 'accomplished', 'by', 'studying', 'how', 'human', 'brain', 'thinks', ','), ('is', 'accomplished', 'by', 'studying', 'how', 'human', 'brain', 'thinks', ',', 'and'), ('accomplished', 'by', 'studying', 'how', 'human', 'brain', 'thinks', ',', 'and', 'how'), ('by', 'studying', 'how', 'human', 'brain', 'thinks', ',', 'and', 'how', 'humans'), ('studying', 'how', 'human', 'brain', 'thinks', ',', 'and', 'how', 'humans', 'learn'), ('how', 'human', 'brain', 'thinks', ',', 'and', 'how', 'humans', 'learn', ','), ('human', 'brain', 'thinks', ',', 'and', 'how', 'humans', 'learn', ',', 'decide'), ('brain', 'thinks', ',', 'and', 'how', 'humans', 'learn', ',', 'decide', ','), ('thinks', ',', 'and', 'how', 'humans', 'learn', ',', 'decide', ',', 'and'), (',', 'and', 'how', 'humans', 'learn', ',', 'decide', ',', 'and', 'work'), ('and', 'how', 'humans', 'learn', ',', 'decide', ',', 'and', 'work', 'while'), ('how', 'humans', 'learn', ',', 'decide', ',', 'and', 'work', 'while', 'trying'), ('humans', 'learn', ',', 'decide', ',', 'and', 'work', 'while', 'trying', 'to'), ('learn', ',', 'decide', ',', 'and', 'work', 'while', 'trying', 'to', 'solve'), (',', 'decide', ',', 'and', 'work', 'while', 'trying', 'to', 'solve', 'a'), ('decide', ',', 'and', 'work', 'while', 'trying', 'to', 'solve', 'a', 'problem'), (',', 'and', 'work', 'while', 'trying', 'to', 'solve', 'a', 'problem', ','), ('and', 'work', 'while', 'trying', 'to', 'solve', 'a', 'problem', ',', 'and'), ('work', 'while', 'trying', 'to', 'solve', 'a', 'problem', ',', 'and', 'then'), ('while', 'trying', 'to', 'solve', 'a', 'problem', ',', 'and', 'then', 'using'), ('trying', 'to', 'solve', 'a', 'problem', ',', 'and', 'then', 'using', 'the'), ('to', 'solve', 'a', 'problem', ',', 'and', 'then', 'using', 'the', 'outcomes'), ('solve', 'a', 'problem', ',', 'and', 'then', 'using', 'the', 'outcomes', 'of'), ('a', 'problem', ',', 'and', 'then', 'using', 'the', 'outcomes', 'of', 'this'), ('problem', ',', 'and', 'then', 'using', 'the', 'outcomes', 'of', 'this', 'study'), (',', 'and', 'then', 'using', 'the', 'outcomes', 'of', 'this', 'study', 'as'), ('and', 'then', 'using', 'the', 'outcomes', 'of', 'this', 'study', 'as', 'a'), ('then', 'using', 'the', 'outcomes', 'of', 'this', 'study', 'as', 'a', 'basis'), ('using', 'the', 'outcomes', 'of', 'this', 'study', 'as', 'a', 'basis', 'of'), ('the', 'outcomes', 'of', 'this', 'study', 'as', 'a', 'basis', 'of', 'developing'), ('outcomes', 'of', 'this', 'study', 'as', 'a', 'basis', 'of', 'developing', 'intelligent'), ('of', 'this', 'study', 'as', 'a', 'basis', 'of', 'developing', 'intelligent', 'software'), ('this', 'study', 'as', 'a', 'basis', 'of', 'developing', 'intelligent', 'software', 'and'), ('study', 'as', 'a', 'basis', 'of', 'developing', 'intelligent', 'software', 'and', 'systems'), ('as', 'a', 'basis', 'of', 'developing', 'intelligent', 'software', 'and', 'systems', '.')]\n"
     ]
    }
   ],
   "source": [
    "#Tokenize 10grams word\n",
    "\n",
    "quotes_ngrams = list(nltk.ngrams(quotes_tokens, 10))\n",
    "print(quotes_ngrams)"
   ]
  }
 ],
 "metadata": {
  "kernelspec": {
   "display_name": "Python 3",
   "language": "python",
   "name": "python3"
  },
  "language_info": {
   "codemirror_mode": {
    "name": "ipython",
    "version": 3
   },
   "file_extension": ".py",
   "mimetype": "text/x-python",
   "name": "python",
   "nbconvert_exporter": "python",
   "pygments_lexer": "ipython3",
   "version": "3.7.3"
  }
 },
 "nbformat": 4,
 "nbformat_minor": 2
}
