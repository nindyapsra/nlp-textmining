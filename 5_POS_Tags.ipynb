{
 "cells": [
  {
   "cell_type": "markdown",
   "metadata": {},
   "source": [
    "Part-of-speech tagging (POS tagging) is the task for tagging a word in a text. It will categorized your words with grammatical properties."
   ]
  },
  {
   "cell_type": "markdown",
   "metadata": {},
   "source": [
    "#### LIST OF POS TAG\n",
    "\n",
    "1. CC = Coordinating Conjunction\n",
    "2. CD = Cardinal Digit\n",
    "3. DT = Determiner\n",
    "4. EX = Existential There\n",
    "5. FW = Foreign Word\n",
    "6. IN = Preposition / Subordinating Conjunction\n",
    "7. JJ = Adjective \"small\"\n",
    "8. JJR = Adjective, comparative \"smaller\"\n",
    "9. JJS = Adjective, superlative \"smallest\"\n",
    "10. LS = List Maker\n",
    "11. MD = Modal Cloud \"will\"\n",
    "12. NN = Noun (Singular) \"play\"\n",
    "13. NNS = Noun (Plural) \"plays\"\n",
    "14. NNP = Proper Noun (Singular) \"Harrison\"\n",
    "15. NNPS = Proper Noun (Plural) \"Americans\"\n",
    "16. PDT = Predeterminer \"all the kids\"\n",
    "17. POS = Possesive Ending Parent's\n",
    "18. PRP = Personal Pronoun (I, he, she)\n",
    "19. PRPS = Possessive Pronoun (my, his, her)\n",
    "20. RB = Adverb (very, silently)\n",
    "21. RBS = Adverb (superlative) \"best\"\n",
    "22. RP = Particle \"give up\"\n",
    "23. TO = to go ‘to’ the store\n",
    "24. UH = Interjection \"errrrrrrrm\"\n",
    "25. VB = Verb (base form) \"take\"\n",
    "26. VBD = Verb (past tense) \"took\"\n",
    "27. VBG = Verb (gerund/present participle) \"taking\"\n",
    "28. VBN = Verb (past participle) \"taken\"\n",
    "29. VBP = Verb \"sing\". present, non-3d \"take\"\n",
    "30. VBZ = Verb (3rd person sing). present \"takes\"\n",
    "31. WDT = wh-determiner \"which\"\n",
    "32. WP = wh-pronoun \"who, what\"\n",
    "33. WP$ = possessive wh-pronoun \"whose\"\n",
    "34. WRB = wh-abverb \"where, when\""
   ]
  },
  {
   "cell_type": "code",
   "execution_count": 3,
   "metadata": {},
   "outputs": [
    {
     "name": "stderr",
     "output_type": "stream",
     "text": [
      "[nltk_data] Downloading package punkt to\n",
      "[nltk_data]     C:\\Users\\nndapsra\\AppData\\Roaming\\nltk_data...\n",
      "[nltk_data]   Package punkt is already up-to-date!\n",
      "[nltk_data] Downloading package averaged_perceptron_tagger to\n",
      "[nltk_data]     C:\\Users\\nndapsra\\AppData\\Roaming\\nltk_data...\n",
      "[nltk_data]   Package averaged_perceptron_tagger is already up-to-\n",
      "[nltk_data]       date!\n"
     ]
    },
    {
     "data": {
      "text/plain": [
       "True"
      ]
     },
     "execution_count": 3,
     "metadata": {},
     "output_type": "execute_result"
    }
   ],
   "source": [
    "#import library\n",
    "\n",
    "import nltk\n",
    "from nltk import word_tokenize\n",
    "nltk.download('punkt')\n",
    "nltk.download('averaged_perceptron_tagger')"
   ]
  },
  {
   "cell_type": "code",
   "execution_count": 4,
   "metadata": {},
   "outputs": [
    {
     "name": "stdout",
     "output_type": "stream",
     "text": [
      "[('Timothy', 'NN')]\n",
      "[('is', 'VBZ')]\n",
      "[('a', 'DT')]\n",
      "[('natural', 'JJ')]\n",
      "[('when', 'WRB')]\n",
      "[('it', 'PRP')]\n",
      "[('comes', 'VBZ')]\n",
      "[('to', 'TO')]\n",
      "[('drawing', 'VBG')]\n"
     ]
    }
   ],
   "source": [
    "sent = \"Timothy is a natural when it comes to drawing\"\n",
    "sent_tokens = word_tokenize(sent)\n",
    "for token in sent_tokens:\n",
    "    print(nltk.pos_tag([token]))"
   ]
  },
  {
   "cell_type": "code",
   "execution_count": 5,
   "metadata": {},
   "outputs": [
    {
     "name": "stdout",
     "output_type": "stream",
     "text": [
      "[('John', 'NNP')]\n",
      "[('is', 'VBZ')]\n",
      "[('eating', 'VBG')]\n",
      "[('a', 'DT')]\n",
      "[('delicious', 'JJ')]\n",
      "[('cake', 'NN')]\n"
     ]
    }
   ],
   "source": [
    "sent2 = \"John is eating a delicious cake\"\n",
    "sent_tokens2 = word_tokenize(sent2)\n",
    "for token in sent_tokens2:\n",
    "    print(nltk.pos_tag([token]))"
   ]
  },
  {
   "cell_type": "code",
   "execution_count": null,
   "metadata": {},
   "outputs": [],
   "source": []
  }
 ],
 "metadata": {
  "kernelspec": {
   "display_name": "Python 3",
   "language": "python",
   "name": "python3"
  },
  "language_info": {
   "codemirror_mode": {
    "name": "ipython",
    "version": 3
   },
   "file_extension": ".py",
   "mimetype": "text/x-python",
   "name": "python",
   "nbconvert_exporter": "python",
   "pygments_lexer": "ipython3",
   "version": "3.7.3"
  }
 },
 "nbformat": 4,
 "nbformat_minor": 2
}
